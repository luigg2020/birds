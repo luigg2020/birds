{
 "cells": [
  {
   "cell_type": "code",
   "execution_count": 1,
   "id": "bf21c3a9",
   "metadata": {
    "_cell_guid": "b1076dfc-b9ad-4769-8c92-a6c4dae69d19",
    "_uuid": "8f2839f25d086af736a60e9eeb907d3b93b6e0e5",
    "execution": {
     "iopub.execute_input": "2023-09-01T06:10:51.687049Z",
     "iopub.status.busy": "2023-09-01T06:10:51.686600Z",
     "iopub.status.idle": "2023-09-01T06:10:51.701127Z",
     "shell.execute_reply": "2023-09-01T06:10:51.700210Z"
    },
    "papermill": {
     "duration": 0.022306,
     "end_time": "2023-09-01T06:10:51.703374",
     "exception": false,
     "start_time": "2023-09-01T06:10:51.681068",
     "status": "completed"
    },
    "tags": []
   },
   "outputs": [
    {
     "name": "stdout",
     "output_type": "stream",
     "text": [
      "done!\n"
     ]
    }
   ],
   "source": [
    "# This Python 3 environment comes with many helpful analytics libraries installed\n",
    "# It is defined by the kaggle/python Docker image: https://github.com/kaggle/docker-python\n",
    "# For example, here's several helpful packages to load\n",
    "\n",
    "import numpy as np # linear algebra\n",
    "import pandas as pd # data processing, CSV file I/O (e.g. pd.read_csv)\n",
    "\n",
    "# Input data files are available in the read-only \"../input/\" directory\n",
    "# For example, running this (by clicking run or pressing Shift+Enter) will list all files under the input directory\n",
    "\n",
    "import os\n",
    "for dirname, _, filenames in os.walk('/kaggle/input'):\n",
    "    for filename in filenames:\n",
    "        print(os.path.join(dirname, filename))\n",
    "print(\"done!\")\n",
    "# You can write up to 20GB to the current directory (/kaggle/working/) that gets preserved as output when you create a version using \"Save & Run All\" \n",
    "# You can also write temporary files to /kaggle/temp/, but they won't be saved outside of the current session"
   ]
  },
  {
   "cell_type": "code",
   "execution_count": null,
   "id": "24f82374",
   "metadata": {
    "execution": {
     "iopub.execute_input": "2023-08-31T15:23:39.548769Z",
     "iopub.status.busy": "2023-08-31T15:23:39.548363Z",
     "iopub.status.idle": "2023-08-31T15:23:40.033742Z",
     "shell.execute_reply": "2023-08-31T15:23:40.031762Z",
     "shell.execute_reply.started": "2023-08-31T15:23:39.548739Z"
    },
    "papermill": {
     "duration": 0.003028,
     "end_time": "2023-09-01T06:10:51.709623",
     "exception": false,
     "start_time": "2023-09-01T06:10:51.706595",
     "status": "completed"
    },
    "tags": []
   },
   "outputs": [],
   "source": []
  }
 ],
 "kernelspec": {
  "display_name": "Python 3",
  "language": "python",
  "name": "python3"
 },
 "language_info": {
  "codemirror_mode": {
   "name": "ipython",
   "version": 3
  },
  "file_extension": ".py",
  "mimetype": "text/x-python",
  "name": "python",
  "nbconvert_exporter": "python",
  "pygments_lexer": "ipython3",
  "version": "3.6.4"
 },
 "metadata": {
  "kernelspec": {
   "display_name": "Python 3",
   "language": "python",
   "name": "python3"
  },
  "language_info": {
   "codemirror_mode": {
    "name": "ipython",
    "version": 3
   },
   "file_extension": ".py",
   "mimetype": "text/x-python",
   "name": "python",
   "nbconvert_exporter": "python",
   "pygments_lexer": "ipython3",
   "version": "3.10.12"
  },
  "papermill": {
   "default_parameters": {},
   "duration": 11.108092,
   "end_time": "2023-09-01T06:10:52.432570",
   "environment_variables": {},
   "exception": null,
   "input_path": "__notebook__.ipynb",
   "output_path": "__notebook__.ipynb",
   "parameters": {},
   "start_time": "2023-09-01T06:10:41.324478",
   "version": "2.4.0"
  }
 },
 "nbformat": 4,
 "nbformat_minor": 5
}
